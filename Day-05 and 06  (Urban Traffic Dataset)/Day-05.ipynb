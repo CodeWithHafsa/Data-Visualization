{
 "cells": [
  {
   "cell_type": "markdown",
   "metadata": {},
   "source": [
    "According to UCI Machine Learning Repository - Behavior of the urban traffic of the city of Sao Paulo in Brazil Dataset,\n",
    "\n",
    "Information:\n",
    "* All data is Integar Real\n",
    "* Attribute Hour {7:00, 7:30, 8:00, 8:30, 9:00, 9:30, 10:00, 10:30, 11:00, 11:30, 12:00, 12:30, 13:00, 13:30, 14:00, 14:30, 15:00, 15:30, 16:00, 16:30, 17:00, 17:30, 18:00, 18:30, 19:00, 19:30, 20:00}\n",
    "* Variables/Columns = Features = 18"
   ]
  },
  {
   "cell_type": "markdown",
   "metadata": {},
   "source": [
    "Key Points:\n",
    "* Scatter graph - Plot for numeric data\n",
    "* Bar chart - Plot for categorical Vs numeric data or when unique value is less\n",
    "* Line chart - Plot for time Vs Any data\n",
    "* Histogram - Plot for continuous data (means when we have frequency table) or when unique values are more"
   ]
  },
  {
   "cell_type": "markdown",
   "metadata": {},
   "source": [
    "----"
   ]
  },
  {
   "cell_type": "code",
   "execution_count": 63,
   "metadata": {},
   "outputs": [],
   "source": [
    "url = \"https://archive.ics.uci.edu/static/public/483/behavior+of+the+urban+traffic+of+the+city+of+sao+paulo+in+brazil.zip\""
   ]
  },
  {
   "cell_type": "code",
   "execution_count": 64,
   "metadata": {},
   "outputs": [
    {
     "data": {
      "text/plain": [
       "200"
      ]
     },
     "execution_count": 64,
     "metadata": {},
     "output_type": "execute_result"
    }
   ],
   "source": [
    "import requests                       #Import Live Data From Url\n",
    "response = requests.get(url)\n",
    "response.status_code"
   ]
  },
  {
   "cell_type": "code",
   "execution_count": 65,
   "metadata": {},
   "outputs": [],
   "source": [
    "with open(\"city.zip\", \"wb\") as f:       #Open file\n",
    "    f.write(response.content)"
   ]
  },
  {
   "cell_type": "code",
   "execution_count": 66,
   "metadata": {},
   "outputs": [],
   "source": [
    "import zipfile                           #Convert Live data into Zip File\n",
    "with zipfile.ZipFile(\"city.zip\") as zipped:\n",
    "    zipped.extractall(\"brazilcity\")"
   ]
  },
  {
   "cell_type": "code",
   "execution_count": 67,
   "metadata": {},
   "outputs": [],
   "source": [
    "import pandas as pd                      # Read file using pandas\n",
    "traffic = pd.read_csv(r\"C:\\Users\\heros\\Documents\\CS\\PGD\\Data Visualization\\Day-05 (Urban Traffic Dataset)\\brazilcity\\Behavior of the urban traffic of the city of Sao Paulo in Brazil\\Behavior of the urban traffic of the city of Sao Paulo in Brazil.csv\", sep=\";\")"
   ]
  },
  {
   "cell_type": "code",
   "execution_count": 68,
   "metadata": {},
   "outputs": [
    {
     "data": {
      "text/html": [
       "<div>\n",
       "<style scoped>\n",
       "    .dataframe tbody tr th:only-of-type {\n",
       "        vertical-align: middle;\n",
       "    }\n",
       "\n",
       "    .dataframe tbody tr th {\n",
       "        vertical-align: top;\n",
       "    }\n",
       "\n",
       "    .dataframe thead th {\n",
       "        text-align: right;\n",
       "    }\n",
       "</style>\n",
       "<table border=\"1\" class=\"dataframe\">\n",
       "  <thead>\n",
       "    <tr style=\"text-align: right;\">\n",
       "      <th></th>\n",
       "      <th>Hour (Coded)</th>\n",
       "      <th>Immobilized bus</th>\n",
       "      <th>Broken Truck</th>\n",
       "      <th>Vehicle excess</th>\n",
       "      <th>Accident victim</th>\n",
       "      <th>Running over</th>\n",
       "      <th>Fire vehicles</th>\n",
       "      <th>Occurrence involving freight</th>\n",
       "      <th>Incident involving dangerous freight</th>\n",
       "      <th>Lack of electricity</th>\n",
       "      <th>Fire</th>\n",
       "      <th>Point of flooding</th>\n",
       "      <th>Manifestations</th>\n",
       "      <th>Defect in the network of trolleybuses</th>\n",
       "      <th>Tree on the road</th>\n",
       "      <th>Semaphore off</th>\n",
       "      <th>Intermittent Semaphore</th>\n",
       "      <th>Slowness in traffic (%)</th>\n",
       "    </tr>\n",
       "  </thead>\n",
       "  <tbody>\n",
       "    <tr>\n",
       "      <th>0</th>\n",
       "      <td>1</td>\n",
       "      <td>0</td>\n",
       "      <td>0</td>\n",
       "      <td>0</td>\n",
       "      <td>0</td>\n",
       "      <td>0</td>\n",
       "      <td>0</td>\n",
       "      <td>0</td>\n",
       "      <td>0</td>\n",
       "      <td>0</td>\n",
       "      <td>0</td>\n",
       "      <td>0</td>\n",
       "      <td>0</td>\n",
       "      <td>0</td>\n",
       "      <td>0</td>\n",
       "      <td>0</td>\n",
       "      <td>0</td>\n",
       "      <td>4,1</td>\n",
       "    </tr>\n",
       "    <tr>\n",
       "      <th>1</th>\n",
       "      <td>2</td>\n",
       "      <td>0</td>\n",
       "      <td>0</td>\n",
       "      <td>0</td>\n",
       "      <td>0</td>\n",
       "      <td>0</td>\n",
       "      <td>0</td>\n",
       "      <td>0</td>\n",
       "      <td>0</td>\n",
       "      <td>0</td>\n",
       "      <td>0</td>\n",
       "      <td>0</td>\n",
       "      <td>0</td>\n",
       "      <td>0</td>\n",
       "      <td>0</td>\n",
       "      <td>0</td>\n",
       "      <td>0</td>\n",
       "      <td>6,6</td>\n",
       "    </tr>\n",
       "    <tr>\n",
       "      <th>2</th>\n",
       "      <td>3</td>\n",
       "      <td>0</td>\n",
       "      <td>0</td>\n",
       "      <td>0</td>\n",
       "      <td>0</td>\n",
       "      <td>0</td>\n",
       "      <td>0</td>\n",
       "      <td>0</td>\n",
       "      <td>0</td>\n",
       "      <td>0</td>\n",
       "      <td>0</td>\n",
       "      <td>0</td>\n",
       "      <td>0</td>\n",
       "      <td>0</td>\n",
       "      <td>0</td>\n",
       "      <td>0</td>\n",
       "      <td>0</td>\n",
       "      <td>8,7</td>\n",
       "    </tr>\n",
       "    <tr>\n",
       "      <th>3</th>\n",
       "      <td>4</td>\n",
       "      <td>0</td>\n",
       "      <td>0</td>\n",
       "      <td>0</td>\n",
       "      <td>0</td>\n",
       "      <td>0</td>\n",
       "      <td>0</td>\n",
       "      <td>0</td>\n",
       "      <td>0</td>\n",
       "      <td>0</td>\n",
       "      <td>0</td>\n",
       "      <td>0</td>\n",
       "      <td>0</td>\n",
       "      <td>0</td>\n",
       "      <td>0</td>\n",
       "      <td>0</td>\n",
       "      <td>0</td>\n",
       "      <td>9,2</td>\n",
       "    </tr>\n",
       "    <tr>\n",
       "      <th>4</th>\n",
       "      <td>5</td>\n",
       "      <td>0</td>\n",
       "      <td>0</td>\n",
       "      <td>0</td>\n",
       "      <td>0</td>\n",
       "      <td>0</td>\n",
       "      <td>0</td>\n",
       "      <td>0</td>\n",
       "      <td>0</td>\n",
       "      <td>0</td>\n",
       "      <td>0</td>\n",
       "      <td>0</td>\n",
       "      <td>0</td>\n",
       "      <td>0</td>\n",
       "      <td>0</td>\n",
       "      <td>0</td>\n",
       "      <td>0</td>\n",
       "      <td>11,1</td>\n",
       "    </tr>\n",
       "  </tbody>\n",
       "</table>\n",
       "</div>"
      ],
      "text/plain": [
       "   Hour (Coded)  Immobilized bus  Broken Truck  Vehicle excess  \\\n",
       "0             1                0             0               0   \n",
       "1             2                0             0               0   \n",
       "2             3                0             0               0   \n",
       "3             4                0             0               0   \n",
       "4             5                0             0               0   \n",
       "\n",
       "   Accident victim  Running over  Fire vehicles  Occurrence involving freight  \\\n",
       "0                0             0              0                             0   \n",
       "1                0             0              0                             0   \n",
       "2                0             0              0                             0   \n",
       "3                0             0              0                             0   \n",
       "4                0             0              0                             0   \n",
       "\n",
       "   Incident involving dangerous freight  Lack of electricity  Fire  \\\n",
       "0                                     0                    0     0   \n",
       "1                                     0                    0     0   \n",
       "2                                     0                    0     0   \n",
       "3                                     0                    0     0   \n",
       "4                                     0                    0     0   \n",
       "\n",
       "   Point of flooding  Manifestations  Defect in the network of trolleybuses  \\\n",
       "0                  0               0                                      0   \n",
       "1                  0               0                                      0   \n",
       "2                  0               0                                      0   \n",
       "3                  0               0                                      0   \n",
       "4                  0               0                                      0   \n",
       "\n",
       "   Tree on the road  Semaphore off  Intermittent Semaphore  \\\n",
       "0                 0              0                       0   \n",
       "1                 0              0                       0   \n",
       "2                 0              0                       0   \n",
       "3                 0              0                       0   \n",
       "4                 0              0                       0   \n",
       "\n",
       "  Slowness in traffic (%)  \n",
       "0                     4,1  \n",
       "1                     6,6  \n",
       "2                     8,7  \n",
       "3                     9,2  \n",
       "4                    11,1  "
      ]
     },
     "execution_count": 68,
     "metadata": {},
     "output_type": "execute_result"
    }
   ],
   "source": [
    "traffic.head()"
   ]
  },
  {
   "cell_type": "markdown",
   "metadata": {},
   "source": [
    "### Applying some methods and attributes to get info about data"
   ]
  },
  {
   "cell_type": "code",
   "execution_count": 69,
   "metadata": {},
   "outputs": [
    {
     "name": "stdout",
     "output_type": "stream",
     "text": [
      "<class 'pandas.core.frame.DataFrame'>\n",
      "RangeIndex: 135 entries, 0 to 134\n",
      "Data columns (total 18 columns):\n",
      " #   Column                                 Non-Null Count  Dtype \n",
      "---  ------                                 --------------  ----- \n",
      " 0   Hour (Coded)                           135 non-null    int64 \n",
      " 1   Immobilized bus                        135 non-null    int64 \n",
      " 2   Broken Truck                           135 non-null    int64 \n",
      " 3   Vehicle excess                         135 non-null    int64 \n",
      " 4   Accident victim                        135 non-null    int64 \n",
      " 5   Running over                           135 non-null    int64 \n",
      " 6   Fire vehicles                          135 non-null    int64 \n",
      " 7   Occurrence involving freight           135 non-null    int64 \n",
      " 8   Incident involving dangerous freight   135 non-null    int64 \n",
      " 9   Lack of electricity                    135 non-null    int64 \n",
      " 10  Fire                                   135 non-null    int64 \n",
      " 11  Point of flooding                      135 non-null    int64 \n",
      " 12  Manifestations                         135 non-null    int64 \n",
      " 13  Defect in the network of trolleybuses  135 non-null    int64 \n",
      " 14  Tree on the road                       135 non-null    int64 \n",
      " 15  Semaphore off                          135 non-null    int64 \n",
      " 16  Intermittent Semaphore                 135 non-null    int64 \n",
      " 17  Slowness in traffic (%)                135 non-null    object\n",
      "dtypes: int64(17), object(1)\n",
      "memory usage: 19.1+ KB\n"
     ]
    }
   ],
   "source": [
    "traffic.info()\n",
    "\n",
    "# Note: It tells that there is no null value in data, and there are 17 integar column while 1 column is an object"
   ]
  },
  {
   "cell_type": "code",
   "execution_count": 70,
   "metadata": {},
   "outputs": [],
   "source": [
    "#traffic.isnull() #give answer = False (because there is no null value in the data)"
   ]
  },
  {
   "cell_type": "code",
   "execution_count": 71,
   "metadata": {},
   "outputs": [
    {
     "data": {
      "text/plain": [
       "Hour (Coded)                             0\n",
       "Immobilized bus                          0\n",
       "Broken Truck                             0\n",
       "Vehicle excess                           0\n",
       "Accident victim                          0\n",
       "Running over                             0\n",
       "Fire vehicles                            0\n",
       "Occurrence involving freight             0\n",
       "Incident involving dangerous freight     0\n",
       "Lack of electricity                      0\n",
       "Fire                                     0\n",
       "Point of flooding                        0\n",
       "Manifestations                           0\n",
       "Defect in the network of trolleybuses    0\n",
       "Tree on the road                         0\n",
       "Semaphore off                            0\n",
       "Intermittent Semaphore                   0\n",
       "Slowness in traffic (%)                  0\n",
       "dtype: int64"
      ]
     },
     "execution_count": 71,
     "metadata": {},
     "output_type": "execute_result"
    }
   ],
   "source": [
    "traffic.isnull().sum(axis = 0)   #bydefault axis = 0    #Method 1\n",
    "\n",
    "# traffic.isnull().sum(axis = \"index\")                  #Method 2 (both gives same answer)\n",
    "\n",
    "#Note: There is no null value so all results came zero"
   ]
  },
  {
   "cell_type": "code",
   "execution_count": 72,
   "metadata": {},
   "outputs": [
    {
     "data": {
      "text/plain": [
       "RangeIndex(start=0, stop=135, step=1)"
      ]
     },
     "execution_count": 72,
     "metadata": {},
     "output_type": "execute_result"
    }
   ],
   "source": [
    "traffic.index   #tells about rows"
   ]
  },
  {
   "cell_type": "code",
   "execution_count": 73,
   "metadata": {},
   "outputs": [
    {
     "data": {
      "text/plain": [
       "Index(['Hour (Coded)', 'Immobilized bus', 'Broken Truck', 'Vehicle excess',\n",
       "       'Accident victim', 'Running over', 'Fire vehicles',\n",
       "       'Occurrence involving freight', 'Incident involving dangerous freight',\n",
       "       'Lack of electricity', 'Fire', 'Point of flooding', 'Manifestations',\n",
       "       'Defect in the network of trolleybuses', 'Tree on the road',\n",
       "       'Semaphore off', 'Intermittent Semaphore', 'Slowness in traffic (%)'],\n",
       "      dtype='object')"
      ]
     },
     "execution_count": 73,
     "metadata": {},
     "output_type": "execute_result"
    }
   ],
   "source": [
    "traffic.columns   #tells about columns"
   ]
  },
  {
   "cell_type": "markdown",
   "metadata": {},
   "source": [
    "---"
   ]
  },
  {
   "cell_type": "code",
   "execution_count": 74,
   "metadata": {},
   "outputs": [
    {
     "data": {
      "text/plain": [
       "'waqas'"
      ]
     },
     "execution_count": 74,
     "metadata": {},
     "output_type": "execute_result"
    }
   ],
   "source": [
    "\"Waqas\".replace(\"W\", \"w\")   #extra concept"
   ]
  },
  {
   "cell_type": "markdown",
   "metadata": {},
   "source": [
    "---"
   ]
  },
  {
   "cell_type": "markdown",
   "metadata": {},
   "source": [
    "### Extract Data of Slowness in traffic (%)"
   ]
  },
  {
   "cell_type": "code",
   "execution_count": 75,
   "metadata": {},
   "outputs": [
    {
     "data": {
      "text/plain": [
       "0       4,1\n",
       "1       6,6\n",
       "2       8,7\n",
       "3       9,2\n",
       "4      11,1\n",
       "       ... \n",
       "130    17,8\n",
       "131    18,1\n",
       "132    17,7\n",
       "133    17,4\n",
       "134    12,1\n",
       "Name: Slowness in traffic (%), Length: 135, dtype: object"
      ]
     },
     "execution_count": 75,
     "metadata": {},
     "output_type": "execute_result"
    }
   ],
   "source": [
    "traffic[\"Slowness in traffic (%)\"]"
   ]
  },
  {
   "cell_type": "code",
   "execution_count": 76,
   "metadata": {},
   "outputs": [],
   "source": [
    "traffic[\"Slowness in traffic (%)\"] = traffic[\"Slowness in traffic (%)\"].str.replace(\",\",\".\").astype(float)    #convert traffic % data into float(i.e. integar)"
   ]
  },
  {
   "cell_type": "code",
   "execution_count": 77,
   "metadata": {},
   "outputs": [
    {
     "data": {
      "text/plain": [
       "Hour (Coded)                               int64\n",
       "Immobilized bus                            int64\n",
       "Broken Truck                               int64\n",
       "Vehicle excess                             int64\n",
       "Accident victim                            int64\n",
       "Running over                               int64\n",
       "Fire vehicles                              int64\n",
       "Occurrence involving freight               int64\n",
       "Incident involving dangerous freight       int64\n",
       "Lack of electricity                        int64\n",
       "Fire                                       int64\n",
       "Point of flooding                          int64\n",
       "Manifestations                             int64\n",
       "Defect in the network of trolleybuses      int64\n",
       "Tree on the road                           int64\n",
       "Semaphore off                              int64\n",
       "Intermittent Semaphore                     int64\n",
       "Slowness in traffic (%)                  float64\n",
       "dtype: object"
      ]
     },
     "execution_count": 77,
     "metadata": {},
     "output_type": "execute_result"
    }
   ],
   "source": [
    "traffic.dtypes   #to check types of all data"
   ]
  },
  {
   "cell_type": "code",
   "execution_count": 78,
   "metadata": {},
   "outputs": [
    {
     "data": {
      "text/plain": [
       "count    135.000000\n",
       "mean      10.051852\n",
       "std        4.363243\n",
       "min        3.400000\n",
       "25%        7.400000\n",
       "50%        9.000000\n",
       "75%       11.850000\n",
       "max       23.400000\n",
       "Name: Slowness in traffic (%), dtype: float64"
      ]
     },
     "execution_count": 78,
     "metadata": {},
     "output_type": "execute_result"
    }
   ],
   "source": [
    "traffic[\"Slowness in traffic (%)\"].describe()"
   ]
  },
  {
   "cell_type": "code",
   "execution_count": 79,
   "metadata": {},
   "outputs": [
    {
     "data": {
      "text/plain": [
       "Slowness in traffic (%)\n",
       "10.3    4\n",
       "8.3     4\n",
       "7.7     4\n",
       "12.1    4\n",
       "7.4     4\n",
       "       ..\n",
       "13.9    1\n",
       "15.0    1\n",
       "17.1    1\n",
       "19.6    1\n",
       "17.7    1\n",
       "Name: count, Length: 83, dtype: int64"
      ]
     },
     "execution_count": 79,
     "metadata": {},
     "output_type": "execute_result"
    }
   ],
   "source": [
    "traffic[\"Slowness in traffic (%)\"].value_counts()"
   ]
  },
  {
   "cell_type": "markdown",
   "metadata": {},
   "source": [
    "---"
   ]
  },
  {
   "cell_type": "markdown",
   "metadata": {},
   "source": [
    "* In Categorical data, when we have less number of unique values - Go for Frequency table \n",
    "* In Categorical data, when we have more number of unique values - Go for Cumulative Frequency table (means continuous data)"
   ]
  },
  {
   "cell_type": "code",
   "execution_count": 85,
   "metadata": {},
   "outputs": [],
   "source": [
    "import matplotlib.pyplot as plt"
   ]
  },
  {
   "cell_type": "markdown",
   "metadata": {},
   "source": [
    "### Histogram for Slowness in traffric - As it is categorical data"
   ]
  },
  {
   "cell_type": "code",
   "execution_count": 81,
   "metadata": {},
   "outputs": [
    {
     "data": {
      "text/plain": [
       "(3.379, 5.4]    16\n",
       "(5.4, 7.4]      21\n",
       "(7.4, 9.4]      36\n",
       "(9.4, 11.4]     27\n",
       "(11.4, 13.4]    11\n",
       "(13.4, 15.4]     6\n",
       "(15.4, 17.4]     6\n",
       "(17.4, 19.4]     5\n",
       "(19.4, 21.4]     3\n",
       "(21.4, 23.4]     4\n",
       "Name: count, dtype: int64"
      ]
     },
     "execution_count": 81,
     "metadata": {},
     "output_type": "execute_result"
    }
   ],
   "source": [
    "traffic[\"Slowness in traffic (%)\"].value_counts(bins=10).sort_index()  #first convert data into frequency table "
   ]
  },
  {
   "cell_type": "markdown",
   "metadata": {},
   "source": [
    "## Histogram"
   ]
  },
  {
   "cell_type": "markdown",
   "metadata": {},
   "source": [
    "#### Histogram using pandas"
   ]
  },
  {
   "cell_type": "code",
   "execution_count": 86,
   "metadata": {},
   "outputs": [
    {
     "data": {
      "image/png": "[encoded data removed]",
      "text/plain": [
       "<Figure size 640x480 with 1 Axes>"
      ]
     },
     "metadata": {},
     "output_type": "display_data"
    }
   ],
   "source": [
    " traffic[\"Slowness in traffic (%)\"].plot.hist()\n",
    "plt.show()   #It is Right Skewed Graph"
   ]
  },
  {
   "cell_type": "markdown",
   "metadata": {},
   "source": [
    "#### Histogram using matplotlib"
   ]
  },
  {
   "cell_type": "code",
   "execution_count": 87,
   "metadata": {},
   "outputs": [
    {
     "data": {
      "image/png": "[encoded data removed]",
      "text/plain": [
       "<Figure size 640x480 with 1 Axes>"
      ]
     },
     "metadata": {},
     "output_type": "display_data"
    }
   ],
   "source": [
    "import matplotlib.pyplot as plt\n",
    "plt.hist(traffic[\"Slowness in traffic (%)\"])\n",
    "plt.show()"
   ]
  },
  {
   "cell_type": "markdown",
   "metadata": {},
   "source": [
    "---"
   ]
  },
  {
   "cell_type": "markdown",
   "metadata": {},
   "source": [
    "### Extract Incidents from overall data - So drop Hour and Slowness % column"
   ]
  },
  {
   "cell_type": "code",
   "execution_count": 89,
   "metadata": {},
   "outputs": [
    {
     "data": {
      "text/html": [
       "<div>\n",
       "<style scoped>\n",
       "    .dataframe tbody tr th:only-of-type {\n",
       "        vertical-align: middle;\n",
       "    }\n",
       "\n",
       "    .dataframe tbody tr th {\n",
       "        vertical-align: top;\n",
       "    }\n",
       "\n",
       "    .dataframe thead th {\n",
       "        text-align: right;\n",
       "    }\n",
       "</style>\n",
       "<table border=\"1\" class=\"dataframe\">\n",
       "  <thead>\n",
       "    <tr style=\"text-align: right;\">\n",
       "      <th></th>\n",
       "      <th>Immobilized bus</th>\n",
       "      <th>Broken Truck</th>\n",
       "      <th>Vehicle excess</th>\n",
       "      <th>Accident victim</th>\n",
       "      <th>Running over</th>\n",
       "      <th>Fire vehicles</th>\n",
       "      <th>Occurrence involving freight</th>\n",
       "      <th>Incident involving dangerous freight</th>\n",
       "      <th>Lack of electricity</th>\n",
       "      <th>Fire</th>\n",
       "      <th>Point of flooding</th>\n",
       "      <th>Manifestations</th>\n",
       "      <th>Defect in the network of trolleybuses</th>\n",
       "      <th>Tree on the road</th>\n",
       "      <th>Semaphore off</th>\n",
       "      <th>Intermittent Semaphore</th>\n",
       "    </tr>\n",
       "  </thead>\n",
       "  <tbody>\n",
       "    <tr>\n",
       "      <th>0</th>\n",
       "      <td>0</td>\n",
       "      <td>0</td>\n",
       "      <td>0</td>\n",
       "      <td>0</td>\n",
       "      <td>0</td>\n",
       "      <td>0</td>\n",
       "      <td>0</td>\n",
       "      <td>0</td>\n",
       "      <td>0</td>\n",
       "      <td>0</td>\n",
       "      <td>0</td>\n",
       "      <td>0</td>\n",
       "      <td>0</td>\n",
       "      <td>0</td>\n",
       "      <td>0</td>\n",
       "      <td>0</td>\n",
       "    </tr>\n",
       "    <tr>\n",
       "      <th>1</th>\n",
       "      <td>0</td>\n",
       "      <td>0</td>\n",
       "      <td>0</td>\n",
       "      <td>0</td>\n",
       "      <td>0</td>\n",
       "      <td>0</td>\n",
       "      <td>0</td>\n",
       "      <td>0</td>\n",
       "      <td>0</td>\n",
       "      <td>0</td>\n",
       "      <td>0</td>\n",
       "      <td>0</td>\n",
       "      <td>0</td>\n",
       "      <td>0</td>\n",
       "      <td>0</td>\n",
       "      <td>0</td>\n",
       "    </tr>\n",
       "    <tr>\n",
       "      <th>2</th>\n",
       "      <td>0</td>\n",
       "      <td>0</td>\n",
       "      <td>0</td>\n",
       "      <td>0</td>\n",
       "      <td>0</td>\n",
       "      <td>0</td>\n",
       "      <td>0</td>\n",
       "      <td>0</td>\n",
       "      <td>0</td>\n",
       "      <td>0</td>\n",
       "      <td>0</td>\n",
       "      <td>0</td>\n",
       "      <td>0</td>\n",
       "      <td>0</td>\n",
       "      <td>0</td>\n",
       "      <td>0</td>\n",
       "    </tr>\n",
       "    <tr>\n",
       "      <th>3</th>\n",
       "      <td>0</td>\n",
       "      <td>0</td>\n",
       "      <td>0</td>\n",
       "      <td>0</td>\n",
       "      <td>0</td>\n",
       "      <td>0</td>\n",
       "      <td>0</td>\n",
       "      <td>0</td>\n",
       "      <td>0</td>\n",
       "      <td>0</td>\n",
       "      <td>0</td>\n",
       "      <td>0</td>\n",
       "      <td>0</td>\n",
       "      <td>0</td>\n",
       "      <td>0</td>\n",
       "      <td>0</td>\n",
       "    </tr>\n",
       "    <tr>\n",
       "      <th>4</th>\n",
       "      <td>0</td>\n",
       "      <td>0</td>\n",
       "      <td>0</td>\n",
       "      <td>0</td>\n",
       "      <td>0</td>\n",
       "      <td>0</td>\n",
       "      <td>0</td>\n",
       "      <td>0</td>\n",
       "      <td>0</td>\n",
       "      <td>0</td>\n",
       "      <td>0</td>\n",
       "      <td>0</td>\n",
       "      <td>0</td>\n",
       "      <td>0</td>\n",
       "      <td>0</td>\n",
       "      <td>0</td>\n",
       "    </tr>\n",
       "    <tr>\n",
       "      <th>...</th>\n",
       "      <td>...</td>\n",
       "      <td>...</td>\n",
       "      <td>...</td>\n",
       "      <td>...</td>\n",
       "      <td>...</td>\n",
       "      <td>...</td>\n",
       "      <td>...</td>\n",
       "      <td>...</td>\n",
       "      <td>...</td>\n",
       "      <td>...</td>\n",
       "      <td>...</td>\n",
       "      <td>...</td>\n",
       "      <td>...</td>\n",
       "      <td>...</td>\n",
       "      <td>...</td>\n",
       "      <td>...</td>\n",
       "    </tr>\n",
       "    <tr>\n",
       "      <th>130</th>\n",
       "      <td>1</td>\n",
       "      <td>0</td>\n",
       "      <td>0</td>\n",
       "      <td>0</td>\n",
       "      <td>1</td>\n",
       "      <td>0</td>\n",
       "      <td>0</td>\n",
       "      <td>0</td>\n",
       "      <td>0</td>\n",
       "      <td>0</td>\n",
       "      <td>0</td>\n",
       "      <td>0</td>\n",
       "      <td>1</td>\n",
       "      <td>0</td>\n",
       "      <td>0</td>\n",
       "      <td>0</td>\n",
       "    </tr>\n",
       "    <tr>\n",
       "      <th>131</th>\n",
       "      <td>0</td>\n",
       "      <td>0</td>\n",
       "      <td>0</td>\n",
       "      <td>2</td>\n",
       "      <td>0</td>\n",
       "      <td>0</td>\n",
       "      <td>0</td>\n",
       "      <td>0</td>\n",
       "      <td>0</td>\n",
       "      <td>0</td>\n",
       "      <td>0</td>\n",
       "      <td>0</td>\n",
       "      <td>0</td>\n",
       "      <td>0</td>\n",
       "      <td>0</td>\n",
       "      <td>0</td>\n",
       "    </tr>\n",
       "    <tr>\n",
       "      <th>132</th>\n",
       "      <td>1</td>\n",
       "      <td>0</td>\n",
       "      <td>0</td>\n",
       "      <td>2</td>\n",
       "      <td>0</td>\n",
       "      <td>0</td>\n",
       "      <td>0</td>\n",
       "      <td>0</td>\n",
       "      <td>0</td>\n",
       "      <td>0</td>\n",
       "      <td>0</td>\n",
       "      <td>0</td>\n",
       "      <td>0</td>\n",
       "      <td>0</td>\n",
       "      <td>0</td>\n",
       "      <td>0</td>\n",
       "    </tr>\n",
       "    <tr>\n",
       "      <th>133</th>\n",
       "      <td>0</td>\n",
       "      <td>4</td>\n",
       "      <td>0</td>\n",
       "      <td>0</td>\n",
       "      <td>0</td>\n",
       "      <td>0</td>\n",
       "      <td>0</td>\n",
       "      <td>0</td>\n",
       "      <td>0</td>\n",
       "      <td>0</td>\n",
       "      <td>0</td>\n",
       "      <td>1</td>\n",
       "      <td>0</td>\n",
       "      <td>0</td>\n",
       "      <td>1</td>\n",
       "      <td>0</td>\n",
       "    </tr>\n",
       "    <tr>\n",
       "      <th>134</th>\n",
       "      <td>0</td>\n",
       "      <td>0</td>\n",
       "      <td>0</td>\n",
       "      <td>0</td>\n",
       "      <td>0</td>\n",
       "      <td>0</td>\n",
       "      <td>0</td>\n",
       "      <td>0</td>\n",
       "      <td>0</td>\n",
       "      <td>0</td>\n",
       "      <td>0</td>\n",
       "      <td>0</td>\n",
       "      <td>0</td>\n",
       "      <td>0</td>\n",
       "      <td>0</td>\n",
       "      <td>0</td>\n",
       "    </tr>\n",
       "  </tbody>\n",
       "</table>\n",
       "<p>135 rows × 16 columns</p>\n",
       "</div>"
      ],
      "text/plain": [
       "     Immobilized bus  Broken Truck  Vehicle excess  Accident victim  \\\n",
       "0                  0             0               0                0   \n",
       "1                  0             0               0                0   \n",
       "2                  0             0               0                0   \n",
       "3                  0             0               0                0   \n",
       "4                  0             0               0                0   \n",
       "..               ...           ...             ...              ...   \n",
       "130                1             0               0                0   \n",
       "131                0             0               0                2   \n",
       "132                1             0               0                2   \n",
       "133                0             4               0                0   \n",
       "134                0             0               0                0   \n",
       "\n",
       "     Running over  Fire vehicles  Occurrence involving freight  \\\n",
       "0               0              0                             0   \n",
       "1               0              0                             0   \n",
       "2               0              0                             0   \n",
       "3               0              0                             0   \n",
       "4               0              0                             0   \n",
       "..            ...            ...                           ...   \n",
       "130             1              0                             0   \n",
       "131             0              0                             0   \n",
       "132             0              0                             0   \n",
       "133             0              0                             0   \n",
       "134             0              0                             0   \n",
       "\n",
       "     Incident involving dangerous freight  Lack of electricity  Fire  \\\n",
       "0                                       0                    0     0   \n",
       "1                                       0                    0     0   \n",
       "2                                       0                    0     0   \n",
       "3                                       0                    0     0   \n",
       "4                                       0                    0     0   \n",
       "..                                    ...                  ...   ...   \n",
       "130                                     0                    0     0   \n",
       "131                                     0                    0     0   \n",
       "132                                     0                    0     0   \n",
       "133                                     0                    0     0   \n",
       "134                                     0                    0     0   \n",
       "\n",
       "     Point of flooding  Manifestations  Defect in the network of trolleybuses  \\\n",
       "0                    0               0                                      0   \n",
       "1                    0               0                                      0   \n",
       "2                    0               0                                      0   \n",
       "3                    0               0                                      0   \n",
       "4                    0               0                                      0   \n",
       "..                 ...             ...                                    ...   \n",
       "130                  0               0                                      1   \n",
       "131                  0               0                                      0   \n",
       "132                  0               0                                      0   \n",
       "133                  0               1                                      0   \n",
       "134                  0               0                                      0   \n",
       "\n",
       "     Tree on the road  Semaphore off  Intermittent Semaphore  \n",
       "0                   0              0                       0  \n",
       "1                   0              0                       0  \n",
       "2                   0              0                       0  \n",
       "3                   0              0                       0  \n",
       "4                   0              0                       0  \n",
       "..                ...            ...                     ...  \n",
       "130                 0              0                       0  \n",
       "131                 0              0                       0  \n",
       "132                 0              0                       0  \n",
       "133                 0              1                       0  \n",
       "134                 0              0                       0  \n",
       "\n",
       "[135 rows x 16 columns]"
      ]
     },
     "execution_count": 89,
     "metadata": {},
     "output_type": "execute_result"
    }
   ],
   "source": [
    "incidents = traffic.drop(['Hour (Coded)','Slowness in traffic (%)'], axis = \"columns\").copy()\n",
    "incidents"
   ]
  },
  {
   "cell_type": "code",
   "execution_count": 93,
   "metadata": {},
   "outputs": [
    {
     "data": {
      "text/plain": [
       "Immobilized bus                           46\n",
       "Broken Truck                             118\n",
       "Vehicle excess                             4\n",
       "Accident victim                           57\n",
       "Running over                              16\n",
       "Fire vehicles                              1\n",
       "Occurrence involving freight               1\n",
       "Incident involving dangerous freight       1\n",
       "Lack of electricity                       16\n",
       "Fire                                       1\n",
       "Point of flooding                         16\n",
       "Manifestations                             7\n",
       "Defect in the network of trolleybuses     31\n",
       "Tree on the road                           6\n",
       "Semaphore off                             17\n",
       "Intermittent Semaphore                     2\n",
       "dtype: int64"
      ]
     },
     "execution_count": 93,
     "metadata": {},
     "output_type": "execute_result"
    }
   ],
   "source": [
    "incidents.sum()   #individual sum of all incidents"
   ]
  },
  {
   "cell_type": "code",
   "execution_count": 92,
   "metadata": {},
   "outputs": [
    {
     "data": {
      "text/plain": [
       "340"
      ]
     },
     "execution_count": 92,
     "metadata": {},
     "output_type": "execute_result"
    }
   ],
   "source": [
    "incidents.sum().sum()    #total sum of all incidents"
   ]
  },
  {
   "cell_type": "markdown",
   "metadata": {},
   "source": [
    "## Bar Plot"
   ]
  },
  {
   "cell_type": "markdown",
   "metadata": {},
   "source": [
    "### Bar Plot of all incidents using pandas"
   ]
  },
  {
   "cell_type": "code",
   "execution_count": 94,
   "metadata": {},
   "outputs": [
    {
     "data": {
      "image/png": "[encoded data removed]",
      "text/plain": [
       "<Figure size 640x480 with 1 Axes>"
      ]
     },
     "metadata": {},
     "output_type": "display_data"
    }
   ],
   "source": [
    "incidents.sum().plot.bar()\n",
    "plt.show()"
   ]
  },
  {
   "cell_type": "markdown",
   "metadata": {},
   "source": [
    "To convert above graph into better format - Horizontal Format\n",
    "\n",
    "Result: So according to bar plot it seems like slowness in traffic in mostly affected due to broken trucks, then Immobilized buses and so on. But is it actually true. To check it we have to go for correlation."
   ]
  },
  {
   "cell_type": "code",
   "execution_count": 96,
   "metadata": {},
   "outputs": [
    {
     "data": {
      "image/png": "[encoded data removed]",
      "text/plain": [
       "<Figure size 640x480 with 1 Axes>"
      ]
     },
     "metadata": {},
     "output_type": "display_data"
    }
   ],
   "source": [
    "incidents.sum().plot.barh()\n",
    "plt.show()"
   ]
  },
  {
   "cell_type": "markdown",
   "metadata": {},
   "source": [
    "---"
   ]
  },
  {
   "cell_type": "markdown",
   "metadata": {},
   "source": [
    "### Absoulte Corelation of Slowness with all incidents (dropping Hour)"
   ]
  },
  {
   "cell_type": "code",
   "execution_count": 101,
   "metadata": {},
   "outputs": [
    {
     "data": {
      "text/plain": [
       "Immobilized bus                          0.101143\n",
       "Broken Truck                             0.131998\n",
       "Vehicle excess                          -0.045297\n",
       "Accident victim                          0.121730\n",
       "Running over                            -0.001133\n",
       "Fire vehicles                            0.134103\n",
       "Occurrence involving freight             0.026791\n",
       "Incident involving dangerous freight     0.000957\n",
       "Lack of electricity                      0.436569\n",
       "Fire                                    -0.046737\n",
       "Point of flooding                        0.420016\n",
       "Manifestations                           0.066377\n",
       "Defect in the network of trolleybuses   -0.147035\n",
       "Tree on the road                        -0.098489\n",
       "Semaphore off                            0.347242\n",
       "Intermittent Semaphore                  -0.119942\n",
       "Slowness in traffic (%)                  1.000000\n",
       "Name: Slowness in traffic (%), dtype: float64"
      ]
     },
     "execution_count": 101,
     "metadata": {},
     "output_type": "execute_result"
    }
   ],
   "source": [
    "traffic.corr()['Slowness in traffic (%)'].drop(\"Hour (Coded)\")\n",
    "\n",
    "# traffic.corr()['Slowness in traffic (%)'].drop(\"Hour (Coded)\").abs() \n",
    "# if we use absolute - then it will convert all values into positive value"
   ]
  },
  {
   "cell_type": "markdown",
   "metadata": {},
   "source": [
    "Below is the corealtion of Slowness with all incidents, except hour and slowness itself so we drop it using drop method. Plus in sort values ascending order is false means result came in descening order.\n",
    "\n",
    "So the corelation shows that the actual reason of slowness is Lack of electricity, Point of flooding and Semaphore off. Not the Broken Truck and Immobilized busses"
   ]
  },
  {
   "cell_type": "code",
   "execution_count": 98,
   "metadata": {},
   "outputs": [
    {
     "data": {
      "text/plain": [
       "Lack of electricity                      0.436569\n",
       "Point of flooding                        0.420016\n",
       "Semaphore off                            0.347242\n",
       "Fire vehicles                            0.134103\n",
       "Broken Truck                             0.131998\n",
       "Accident victim                          0.121730\n",
       "Immobilized bus                          0.101143\n",
       "Manifestations                           0.066377\n",
       "Occurrence involving freight             0.026791\n",
       "Incident involving dangerous freight     0.000957\n",
       "Running over                            -0.001133\n",
       "Vehicle excess                          -0.045297\n",
       "Fire                                    -0.046737\n",
       "Tree on the road                        -0.098489\n",
       "Intermittent Semaphore                  -0.119942\n",
       "Defect in the network of trolleybuses   -0.147035\n",
       "Name: Slowness in traffic (%), dtype: float64"
      ]
     },
     "execution_count": 98,
     "metadata": {},
     "output_type": "execute_result"
    }
   ],
   "source": [
    "traffic.corr()['Slowness in traffic (%)'].drop([\"Hour (Coded)\", \"Slowness in traffic (%)\"]).sort_values(ascending = False)"
   ]
  },
  {
   "cell_type": "markdown",
   "metadata": {},
   "source": [
    "## Scatter Graph - For Corelation"
   ]
  },
  {
   "cell_type": "markdown",
   "metadata": {},
   "source": [
    "### Graph between Slowness and Lack of electricity"
   ]
  },
  {
   "cell_type": "code",
   "execution_count": 103,
   "metadata": {},
   "outputs": [
    {
     "data": {
      "image/png": "[encoded data removed]",
      "text/plain": [
       "<Figure size 640x480 with 1 Axes>"
      ]
     },
     "metadata": {},
     "output_type": "display_data"
    }
   ],
   "source": [
    "plt.scatter(traffic[\"Slowness in traffic (%)\"], traffic[\"Lack of electricity\"])\n",
    "plt.show()\n",
    "\n",
    "# Graph shows positive corelation - as it increases\n",
    "#Note: It shows that the lack of electricity is high only for few days but due to thsi it cause a major effect in \n",
    "# slowness in traffic"
   ]
  },
  {
   "cell_type": "markdown",
   "metadata": {},
   "source": [
    "### Graph between Slowness and Point of Flooding"
   ]
  },
  {
   "cell_type": "code",
   "execution_count": 106,
   "metadata": {},
   "outputs": [
    {
     "data": {
      "image/png": "[encoded data removed]",
      "text/plain": [
       "<Figure size 640x480 with 1 Axes>"
      ]
     },
     "metadata": {},
     "output_type": "display_data"
    }
   ],
   "source": [
    "plt.scatter(traffic[\"Slowness in traffic (%)\"], traffic[\"Point of flooding\"])\n",
    "plt.show()\n",
    "\n",
    "# Graph shows positive corelation - as it increases\n",
    "#Note: It shows that the point of flooding is high only for few days but due to thsi it cause a major effect in \n",
    "# slowness in traffic"
   ]
  },
  {
   "cell_type": "markdown",
   "metadata": {},
   "source": [
    "### Graph between Slowness and Semaphore off"
   ]
  },
  {
   "cell_type": "code",
   "execution_count": 108,
   "metadata": {},
   "outputs": [
    {
     "data": {
      "image/png": "[encoded data removed]",
      "text/plain": [
       "<Figure size 640x480 with 1 Axes>"
      ]
     },
     "metadata": {},
     "output_type": "display_data"
    }
   ],
   "source": [
    "plt.scatter(traffic[\"Slowness in traffic (%)\"], traffic[\"Semaphore off\"])\n",
    "plt.show()\n",
    "\n",
    "# Graph shows positive corelation - as it increases\n",
    "#Note: It shows that the semaphore off is high only for few days but due to thsi it cause a major effect in \n",
    "# slowness in traffic"
   ]
  }
 ],
 "metadata": {
  "kernelspec": {
   "display_name": "Python 3",
   "language": "python",
   "name": "python3"
  },
  "language_info": {
   "codemirror_mode": {
    "name": "ipython",
    "version": 3
   },
   "file_extension": ".py",
   "mimetype": "text/x-python",
   "name": "python",
   "nbconvert_exporter": "python",
   "pygments_lexer": "ipython3",
   "version": "3.11.5"
  }
 },
 "nbformat": 4,
 "nbformat_minor": 2
}
