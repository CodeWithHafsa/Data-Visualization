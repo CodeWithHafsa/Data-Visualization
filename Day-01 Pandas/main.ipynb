{
 "cells": [
  {
   "cell_type": "markdown",
   "metadata": {},
   "source": [
    "Key Points: \n",
    "* IDE - Integrated Development Engine\n",
    "* Csv file - Either comma separated or character separated file."
   ]
  },
  {
   "cell_type": "markdown",
   "metadata": {},
   "source": [
    "Data Structure - to organize or manage the data. It holds mutiple data. It is also known as \"data set\". E.g. List."
   ]
  },
  {
   "cell_type": "markdown",
   "metadata": {},
   "source": [
    "#### Reading csv file using pandas"
   ]
  },
  {
   "cell_type": "code",
   "execution_count": 2,
   "metadata": {},
   "outputs": [
    {
     "data": {
      "text/plain": [
       "pandas.core.frame.DataFrame"
      ]
     },
     "execution_count": 2,
     "metadata": {},
     "output_type": "execute_result"
    }
   ],
   "source": [
    "import pandas as pd                #import pandas\n",
    "who = pd.read_csv(\"WHO.csv\")       #read file\n",
    "type(who)                          #to know type of file"
   ]
  },
  {
   "cell_type": "code",
   "execution_count": 3,
   "metadata": {},
   "outputs": [
    {
     "data": {
      "text/plain": [
       "2"
      ]
     },
     "execution_count": 3,
     "metadata": {},
     "output_type": "execute_result"
    }
   ],
   "source": [
    "import pandas as pd\n",
    "who = pd.read_csv(\"WHO.csv\")\n",
    "who.ndim                              #for dimension"
   ]
  },
  {
   "cell_type": "code",
   "execution_count": 4,
   "metadata": {},
   "outputs": [
    {
     "data": {
      "text/html": [
       "<div>\n",
       "<style scoped>\n",
       "    .dataframe tbody tr th:only-of-type {\n",
       "        vertical-align: middle;\n",
       "    }\n",
       "\n",
       "    .dataframe tbody tr th {\n",
       "        vertical-align: top;\n",
       "    }\n",
       "\n",
       "    .dataframe thead th {\n",
       "        text-align: right;\n",
       "    }\n",
       "</style>\n",
       "<table border=\"1\" class=\"dataframe\">\n",
       "  <thead>\n",
       "    <tr style=\"text-align: right;\">\n",
       "      <th></th>\n",
       "      <th>Date_reported</th>\n",
       "      <th>Country</th>\n",
       "      <th>New_cases</th>\n",
       "      <th>Cumulative_cases</th>\n",
       "      <th>New_deaths</th>\n",
       "      <th>Cumulative_deaths</th>\n",
       "    </tr>\n",
       "  </thead>\n",
       "  <tbody>\n",
       "    <tr>\n",
       "      <th>0</th>\n",
       "      <td>2020-01-04</td>\n",
       "      <td>China</td>\n",
       "      <td>1</td>\n",
       "      <td>1</td>\n",
       "      <td>0</td>\n",
       "      <td>0</td>\n",
       "    </tr>\n",
       "    <tr>\n",
       "      <th>1</th>\n",
       "      <td>2020-01-05</td>\n",
       "      <td>China</td>\n",
       "      <td>0</td>\n",
       "      <td>1</td>\n",
       "      <td>0</td>\n",
       "      <td>0</td>\n",
       "    </tr>\n",
       "    <tr>\n",
       "      <th>2</th>\n",
       "      <td>2020-01-06</td>\n",
       "      <td>China</td>\n",
       "      <td>3</td>\n",
       "      <td>4</td>\n",
       "      <td>0</td>\n",
       "      <td>0</td>\n",
       "    </tr>\n",
       "    <tr>\n",
       "      <th>3</th>\n",
       "      <td>2020-01-07</td>\n",
       "      <td>China</td>\n",
       "      <td>0</td>\n",
       "      <td>4</td>\n",
       "      <td>0</td>\n",
       "      <td>0</td>\n",
       "    </tr>\n",
       "    <tr>\n",
       "      <th>4</th>\n",
       "      <td>2020-01-08</td>\n",
       "      <td>China</td>\n",
       "      <td>0</td>\n",
       "      <td>4</td>\n",
       "      <td>0</td>\n",
       "      <td>0</td>\n",
       "    </tr>\n",
       "    <tr>\n",
       "      <th>...</th>\n",
       "      <td>...</td>\n",
       "      <td>...</td>\n",
       "      <td>...</td>\n",
       "      <td>...</td>\n",
       "      <td>...</td>\n",
       "      <td>...</td>\n",
       "    </tr>\n",
       "    <tr>\n",
       "      <th>31871</th>\n",
       "      <td>2020-07-31</td>\n",
       "      <td>Panama</td>\n",
       "      <td>1046</td>\n",
       "      <td>63269</td>\n",
       "      <td>25</td>\n",
       "      <td>1374</td>\n",
       "    </tr>\n",
       "    <tr>\n",
       "      <th>31872</th>\n",
       "      <td>2020-07-31</td>\n",
       "      <td>Timor-Leste</td>\n",
       "      <td>0</td>\n",
       "      <td>24</td>\n",
       "      <td>0</td>\n",
       "      <td>0</td>\n",
       "    </tr>\n",
       "    <tr>\n",
       "      <th>31873</th>\n",
       "      <td>2020-07-31</td>\n",
       "      <td>Guatemala</td>\n",
       "      <td>1221</td>\n",
       "      <td>48826</td>\n",
       "      <td>32</td>\n",
       "      <td>1867</td>\n",
       "    </tr>\n",
       "    <tr>\n",
       "      <th>31874</th>\n",
       "      <td>2020-07-31</td>\n",
       "      <td>Saint Vincent and the Grenadines</td>\n",
       "      <td>0</td>\n",
       "      <td>52</td>\n",
       "      <td>0</td>\n",
       "      <td>0</td>\n",
       "    </tr>\n",
       "    <tr>\n",
       "      <th>31875</th>\n",
       "      <td>2020-07-31</td>\n",
       "      <td>Democratic Republic of the Congo</td>\n",
       "      <td>79</td>\n",
       "      <td>9009</td>\n",
       "      <td>2</td>\n",
       "      <td>214</td>\n",
       "    </tr>\n",
       "  </tbody>\n",
       "</table>\n",
       "<p>31876 rows × 6 columns</p>\n",
       "</div>"
      ],
      "text/plain": [
       "      Date_reported                           Country  New_cases  \\\n",
       "0        2020-01-04                             China          1   \n",
       "1        2020-01-05                             China          0   \n",
       "2        2020-01-06                             China          3   \n",
       "3        2020-01-07                             China          0   \n",
       "4        2020-01-08                             China          0   \n",
       "...             ...                               ...        ...   \n",
       "31871    2020-07-31                            Panama       1046   \n",
       "31872    2020-07-31                       Timor-Leste          0   \n",
       "31873    2020-07-31                         Guatemala       1221   \n",
       "31874    2020-07-31  Saint Vincent and the Grenadines          0   \n",
       "31875    2020-07-31  Democratic Republic of the Congo         79   \n",
       "\n",
       "       Cumulative_cases  New_deaths  Cumulative_deaths  \n",
       "0                     1           0                  0  \n",
       "1                     1           0                  0  \n",
       "2                     4           0                  0  \n",
       "3                     4           0                  0  \n",
       "4                     4           0                  0  \n",
       "...                 ...         ...                ...  \n",
       "31871             63269          25               1374  \n",
       "31872                24           0                  0  \n",
       "31873             48826          32               1867  \n",
       "31874                52           0                  0  \n",
       "31875              9009           2                214  \n",
       "\n",
       "[31876 rows x 6 columns]"
      ]
     },
     "execution_count": 4,
     "metadata": {},
     "output_type": "execute_result"
    }
   ],
   "source": [
    "import pandas as pd\n",
    "who = pd.read_csv(\"WHO.csv\")\n",
    "who"
   ]
  },
  {
   "cell_type": "markdown",
   "metadata": {},
   "source": [
    "---"
   ]
  },
  {
   "cell_type": "markdown",
   "metadata": {},
   "source": [
    "### To get name of all the columns"
   ]
  },
  {
   "cell_type": "code",
   "execution_count": 11,
   "metadata": {},
   "outputs": [
    {
     "data": {
      "text/plain": [
       "Index(['Date_reported', 'Country', 'New_cases', 'Cumulative_cases',\n",
       "       'New_deaths', 'Cumulative_deaths'],\n",
       "      dtype='object')"
      ]
     },
     "execution_count": 11,
     "metadata": {},
     "output_type": "execute_result"
    }
   ],
   "source": [
    "who.columns"
   ]
  },
  {
   "cell_type": "markdown",
   "metadata": {},
   "source": [
    "---"
   ]
  },
  {
   "cell_type": "markdown",
   "metadata": {},
   "source": [
    "### To convert data of \"Date_reported\" from string to date-time:"
   ]
  },
  {
   "cell_type": "code",
   "execution_count": 10,
   "metadata": {},
   "outputs": [
    {
     "data": {
      "text/plain": [
       "0       2020-01-04\n",
       "1       2020-01-05\n",
       "2       2020-01-06\n",
       "3       2020-01-07\n",
       "4       2020-01-08\n",
       "           ...    \n",
       "31871   2020-07-31\n",
       "31872   2020-07-31\n",
       "31873   2020-07-31\n",
       "31874   2020-07-31\n",
       "31875   2020-07-31\n",
       "Name: Date_reported, Length: 31876, dtype: datetime64[ns]"
      ]
     },
     "execution_count": 10,
     "metadata": {},
     "output_type": "execute_result"
    }
   ],
   "source": [
    "pd.to_datetime(who[\"Date_reported\"])"
   ]
  },
  {
   "cell_type": "code",
   "execution_count": 13,
   "metadata": {},
   "outputs": [
    {
     "data": {
      "text/plain": [
       "0        2020-01-04\n",
       "1        2020-01-05\n",
       "2        2020-01-06\n",
       "3        2020-01-07\n",
       "4        2020-01-08\n",
       "            ...    \n",
       "31871    2020-07-31\n",
       "31872    2020-07-31\n",
       "31873    2020-07-31\n",
       "31874    2020-07-31\n",
       "31875    2020-07-31\n",
       "Name: Date_reported, Length: 31876, dtype: object"
      ]
     },
     "execution_count": 13,
     "metadata": {},
     "output_type": "execute_result"
    }
   ],
   "source": [
    "who[\"Date_reported\"]    #To access only one column from the data"
   ]
  },
  {
   "cell_type": "code",
   "execution_count": 9,
   "metadata": {},
   "outputs": [
    {
     "data": {
      "text/plain": [
       "1"
      ]
     },
     "execution_count": 9,
     "metadata": {},
     "output_type": "execute_result"
    }
   ],
   "source": [
    "who[\"Date_reported\"].ndim      #dimension of one column"
   ]
  },
  {
   "cell_type": "code",
   "execution_count": 8,
   "metadata": {},
   "outputs": [
    {
     "data": {
      "text/plain": [
       "pandas.core.series.Series"
      ]
     },
     "execution_count": 8,
     "metadata": {},
     "output_type": "execute_result"
    }
   ],
   "source": [
    "type(who[\"Date_reported\"])     #type of one column = Series"
   ]
  },
  {
   "cell_type": "markdown",
   "metadata": {},
   "source": [
    "---"
   ]
  },
  {
   "cell_type": "markdown",
   "metadata": {},
   "source": [
    "### Using head( ) method"
   ]
  },
  {
   "cell_type": "code",
   "execution_count": 9,
   "metadata": {},
   "outputs": [
    {
     "data": {
      "text/html": [
       "<div>\n",
       "<style scoped>\n",
       "    .dataframe tbody tr th:only-of-type {\n",
       "        vertical-align: middle;\n",
       "    }\n",
       "\n",
       "    .dataframe tbody tr th {\n",
       "        vertical-align: top;\n",
       "    }\n",
       "\n",
       "    .dataframe thead th {\n",
       "        text-align: right;\n",
       "    }\n",
       "</style>\n",
       "<table border=\"1\" class=\"dataframe\">\n",
       "  <thead>\n",
       "    <tr style=\"text-align: right;\">\n",
       "      <th></th>\n",
       "      <th>Date_reported</th>\n",
       "      <th>Country</th>\n",
       "      <th>New_cases</th>\n",
       "      <th>Cumulative_cases</th>\n",
       "      <th>New_deaths</th>\n",
       "      <th>Cumulative_deaths</th>\n",
       "    </tr>\n",
       "  </thead>\n",
       "  <tbody>\n",
       "    <tr>\n",
       "      <th>0</th>\n",
       "      <td>2020-01-04</td>\n",
       "      <td>China</td>\n",
       "      <td>1</td>\n",
       "      <td>1</td>\n",
       "      <td>0</td>\n",
       "      <td>0</td>\n",
       "    </tr>\n",
       "    <tr>\n",
       "      <th>1</th>\n",
       "      <td>2020-01-05</td>\n",
       "      <td>China</td>\n",
       "      <td>0</td>\n",
       "      <td>1</td>\n",
       "      <td>0</td>\n",
       "      <td>0</td>\n",
       "    </tr>\n",
       "    <tr>\n",
       "      <th>2</th>\n",
       "      <td>2020-01-06</td>\n",
       "      <td>China</td>\n",
       "      <td>3</td>\n",
       "      <td>4</td>\n",
       "      <td>0</td>\n",
       "      <td>0</td>\n",
       "    </tr>\n",
       "    <tr>\n",
       "      <th>3</th>\n",
       "      <td>2020-01-07</td>\n",
       "      <td>China</td>\n",
       "      <td>0</td>\n",
       "      <td>4</td>\n",
       "      <td>0</td>\n",
       "      <td>0</td>\n",
       "    </tr>\n",
       "    <tr>\n",
       "      <th>4</th>\n",
       "      <td>2020-01-08</td>\n",
       "      <td>China</td>\n",
       "      <td>0</td>\n",
       "      <td>4</td>\n",
       "      <td>0</td>\n",
       "      <td>0</td>\n",
       "    </tr>\n",
       "  </tbody>\n",
       "</table>\n",
       "</div>"
      ],
      "text/plain": [
       "  Date_reported Country  New_cases  Cumulative_cases  New_deaths  \\\n",
       "0    2020-01-04   China          1                 1           0   \n",
       "1    2020-01-05   China          0                 1           0   \n",
       "2    2020-01-06   China          3                 4           0   \n",
       "3    2020-01-07   China          0                 4           0   \n",
       "4    2020-01-08   China          0                 4           0   \n",
       "\n",
       "   Cumulative_deaths  \n",
       "0                  0  \n",
       "1                  0  \n",
       "2                  0  \n",
       "3                  0  \n",
       "4                  0  "
      ]
     },
     "execution_count": 9,
     "metadata": {},
     "output_type": "execute_result"
    }
   ],
   "source": [
    "who.head()  #it prints starting 5 lines"
   ]
  },
  {
   "cell_type": "code",
   "execution_count": 10,
   "metadata": {},
   "outputs": [
    {
     "data": {
      "text/html": [
       "<div>\n",
       "<style scoped>\n",
       "    .dataframe tbody tr th:only-of-type {\n",
       "        vertical-align: middle;\n",
       "    }\n",
       "\n",
       "    .dataframe tbody tr th {\n",
       "        vertical-align: top;\n",
       "    }\n",
       "\n",
       "    .dataframe thead th {\n",
       "        text-align: right;\n",
       "    }\n",
       "</style>\n",
       "<table border=\"1\" class=\"dataframe\">\n",
       "  <thead>\n",
       "    <tr style=\"text-align: right;\">\n",
       "      <th></th>\n",
       "      <th>Date_reported</th>\n",
       "      <th>Country</th>\n",
       "      <th>New_cases</th>\n",
       "      <th>Cumulative_cases</th>\n",
       "      <th>New_deaths</th>\n",
       "      <th>Cumulative_deaths</th>\n",
       "    </tr>\n",
       "  </thead>\n",
       "  <tbody>\n",
       "    <tr>\n",
       "      <th>0</th>\n",
       "      <td>2020-01-04</td>\n",
       "      <td>China</td>\n",
       "      <td>1</td>\n",
       "      <td>1</td>\n",
       "      <td>0</td>\n",
       "      <td>0</td>\n",
       "    </tr>\n",
       "    <tr>\n",
       "      <th>1</th>\n",
       "      <td>2020-01-05</td>\n",
       "      <td>China</td>\n",
       "      <td>0</td>\n",
       "      <td>1</td>\n",
       "      <td>0</td>\n",
       "      <td>0</td>\n",
       "    </tr>\n",
       "    <tr>\n",
       "      <th>2</th>\n",
       "      <td>2020-01-06</td>\n",
       "      <td>China</td>\n",
       "      <td>3</td>\n",
       "      <td>4</td>\n",
       "      <td>0</td>\n",
       "      <td>0</td>\n",
       "    </tr>\n",
       "    <tr>\n",
       "      <th>3</th>\n",
       "      <td>2020-01-07</td>\n",
       "      <td>China</td>\n",
       "      <td>0</td>\n",
       "      <td>4</td>\n",
       "      <td>0</td>\n",
       "      <td>0</td>\n",
       "    </tr>\n",
       "    <tr>\n",
       "      <th>4</th>\n",
       "      <td>2020-01-08</td>\n",
       "      <td>China</td>\n",
       "      <td>0</td>\n",
       "      <td>4</td>\n",
       "      <td>0</td>\n",
       "      <td>0</td>\n",
       "    </tr>\n",
       "    <tr>\n",
       "      <th>5</th>\n",
       "      <td>2020-01-09</td>\n",
       "      <td>China</td>\n",
       "      <td>0</td>\n",
       "      <td>4</td>\n",
       "      <td>0</td>\n",
       "      <td>0</td>\n",
       "    </tr>\n",
       "    <tr>\n",
       "      <th>6</th>\n",
       "      <td>2020-01-10</td>\n",
       "      <td>China</td>\n",
       "      <td>0</td>\n",
       "      <td>4</td>\n",
       "      <td>0</td>\n",
       "      <td>0</td>\n",
       "    </tr>\n",
       "    <tr>\n",
       "      <th>7</th>\n",
       "      <td>2020-01-11</td>\n",
       "      <td>China</td>\n",
       "      <td>41</td>\n",
       "      <td>45</td>\n",
       "      <td>1</td>\n",
       "      <td>1</td>\n",
       "    </tr>\n",
       "    <tr>\n",
       "      <th>8</th>\n",
       "      <td>2020-01-12</td>\n",
       "      <td>China</td>\n",
       "      <td>0</td>\n",
       "      <td>45</td>\n",
       "      <td>0</td>\n",
       "      <td>1</td>\n",
       "    </tr>\n",
       "    <tr>\n",
       "      <th>9</th>\n",
       "      <td>2020-01-13</td>\n",
       "      <td>Thailand</td>\n",
       "      <td>5</td>\n",
       "      <td>5</td>\n",
       "      <td>0</td>\n",
       "      <td>0</td>\n",
       "    </tr>\n",
       "  </tbody>\n",
       "</table>\n",
       "</div>"
      ],
      "text/plain": [
       "  Date_reported   Country  New_cases  Cumulative_cases  New_deaths  \\\n",
       "0    2020-01-04     China          1                 1           0   \n",
       "1    2020-01-05     China          0                 1           0   \n",
       "2    2020-01-06     China          3                 4           0   \n",
       "3    2020-01-07     China          0                 4           0   \n",
       "4    2020-01-08     China          0                 4           0   \n",
       "5    2020-01-09     China          0                 4           0   \n",
       "6    2020-01-10     China          0                 4           0   \n",
       "7    2020-01-11     China         41                45           1   \n",
       "8    2020-01-12     China          0                45           0   \n",
       "9    2020-01-13  Thailand          5                 5           0   \n",
       "\n",
       "   Cumulative_deaths  \n",
       "0                  0  \n",
       "1                  0  \n",
       "2                  0  \n",
       "3                  0  \n",
       "4                  0  \n",
       "5                  0  \n",
       "6                  0  \n",
       "7                  1  \n",
       "8                  1  \n",
       "9                  0  "
      ]
     },
     "execution_count": 10,
     "metadata": {},
     "output_type": "execute_result"
    }
   ],
   "source": [
    "who.head(10)   #it prints starting 10 lines"
   ]
  },
  {
   "cell_type": "markdown",
   "metadata": {},
   "source": [
    "### Using info( ) method:"
   ]
  },
  {
   "cell_type": "code",
   "execution_count": 12,
   "metadata": {},
   "outputs": [
    {
     "name": "stdout",
     "output_type": "stream",
     "text": [
      "<class 'pandas.core.frame.DataFrame'>\n",
      "RangeIndex: 31876 entries, 0 to 31875\n",
      "Data columns (total 6 columns):\n",
      " #   Column             Non-Null Count  Dtype \n",
      "---  ------             --------------  ----- \n",
      " 0   Date_reported      31876 non-null  object\n",
      " 1   Country            31876 non-null  object\n",
      " 2   New_cases          31876 non-null  int64 \n",
      " 3   Cumulative_cases   31876 non-null  int64 \n",
      " 4   New_deaths         31876 non-null  int64 \n",
      " 5   Cumulative_deaths  31876 non-null  int64 \n",
      "dtypes: int64(4), object(2)\n",
      "memory usage: 1.5+ MB\n"
     ]
    }
   ],
   "source": [
    "who.info()  # Total entries = 31876 entries"
   ]
  },
  {
   "cell_type": "markdown",
   "metadata": {},
   "source": [
    "### Using shape( ) method:"
   ]
  },
  {
   "cell_type": "code",
   "execution_count": 20,
   "metadata": {},
   "outputs": [
    {
     "data": {
      "text/plain": [
       "(31876, 6)"
      ]
     },
     "execution_count": 20,
     "metadata": {},
     "output_type": "execute_result"
    }
   ],
   "source": [
    "who.shape #it tells about (rows, columns)"
   ]
  },
  {
   "cell_type": "markdown",
   "metadata": {},
   "source": [
    "---"
   ]
  },
  {
   "cell_type": "markdown",
   "metadata": {},
   "source": [
    "### To get name of all countries in Country column - using unique( ) method"
   ]
  },
  {
   "cell_type": "code",
   "execution_count": 23,
   "metadata": {},
   "outputs": [
    {
     "data": {
      "text/plain": [
       "array(['China', 'Thailand', 'Japan', 'Republic of Korea',\n",
       "       'United States of America', 'Singapore', 'Nepal', 'France',\n",
       "       'Viet Nam', 'Malaysia', 'Australia', 'Canada', 'Sri Lanka',\n",
       "       'Cambodia', 'Germany', 'Italy', 'Finland', 'United Arab Emirates',\n",
       "       'India', 'Philippines', 'Sweden', 'Russian Federation',\n",
       "       'The United Kingdom', 'Spain', 'Belgium', 'Other', 'Egypt',\n",
       "       'Iran (Islamic Republic of)', 'Israel', 'Lebanon', 'Oman',\n",
       "       'Bahrain', 'Switzerland', 'Iraq', 'Afghanistan', 'Kuwait',\n",
       "       'Algeria', 'Austria', 'Romania', 'Norway', 'North Macedonia',\n",
       "       'Croatia', 'Georgia', 'Pakistan', 'Brazil', 'Denmark', 'Greece',\n",
       "       'Estonia', 'Nigeria', 'Lithuania', 'New Zealand', 'Mexico',\n",
       "       'Netherlands', 'San Marino', 'Ecuador', 'Monaco', 'Qatar',\n",
       "       'Azerbaijan', 'Belarus', 'Armenia', 'Czechia', 'Ireland',\n",
       "       'Iceland', 'Luxembourg', 'Morocco', 'Saint Barthélemy', 'Portugal',\n",
       "       'Tunisia', 'Saint Martin', 'Indonesia', 'Jordan',\n",
       "       'Dominican Republic', 'Latvia', 'Saudi Arabia', 'Senegal',\n",
       "       'Andorra', 'Argentina', 'Ukraine', 'Gibraltar', 'Chile', 'Poland',\n",
       "       'Slovenia', 'South Africa', 'Bosnia and Herzegovina',\n",
       "       'occupied Palestinian territory, including east Jerusalem',\n",
       "       'Liechtenstein', 'Hungary', 'Faroe Islands', 'Holy See', 'Serbia',\n",
       "       'Cameroon', 'Slovakia', 'Colombia', 'Bhutan', 'Martinique', 'Togo',\n",
       "       'French Guiana', 'Maldives', 'Malta', 'Peru',\n",
       "       'Republic of Moldova', 'Costa Rica', 'Paraguay', 'Bangladesh',\n",
       "       'Bulgaria', 'Albania', 'Guernsey', 'Cyprus', 'Panama',\n",
       "       'Brunei Darussalam', 'Mongolia', 'Jamaica', 'Turkey',\n",
       "       'Democratic Republic of the Congo', 'Burkina Faso',\n",
       "       'Bolivia (Plurinational State of)', 'Côte d’Ivoire', 'Jersey',\n",
       "       'French Polynesia', 'Honduras', 'Guyana',\n",
       "       'Saint Vincent and the Grenadines', 'Cayman Islands', 'Cuba',\n",
       "       'United States Virgin Islands', 'Curaçao', 'Réunion',\n",
       "       'Antigua and Barbuda', 'Trinidad and Tobago', 'Kosovo[1]',\n",
       "       'Central African Republic', 'Ghana', 'Guadeloupe', 'Kazakhstan',\n",
       "       'Gabon', 'Guinea', 'Kenya', 'Sudan', 'Namibia', 'Puerto Rico',\n",
       "       'Venezuela (Bolivarian Republic of)', 'Mayotte',\n",
       "       'Equatorial Guinea', 'Eswatini', 'Ethiopia', 'Mauritania',\n",
       "       'Uruguay', 'Congo', 'Seychelles', 'Suriname', 'Guatemala',\n",
       "       'Saint Lucia', 'Rwanda', 'Somalia', 'Uzbekistan',\n",
       "       'United Republic of Tanzania', 'Benin', 'Guam', 'Aruba', 'Liberia',\n",
       "       'Montenegro', 'Bahamas', 'Sint Maarten', 'Bermuda', 'Montserrat',\n",
       "       'Djibouti', 'Mauritius', 'Kyrgyzstan', 'Gambia', 'Barbados',\n",
       "       'Greenland', 'Zambia', 'Nicaragua', 'New Caledonia', 'Niger',\n",
       "       'Chad', 'Fiji', 'El Salvador', 'Haiti', 'Cabo Verde',\n",
       "       'Papua New Guinea', 'Zimbabwe', 'Isle of Man', 'Timor-Leste',\n",
       "       'Uganda', 'Eritrea', 'Angola', 'Madagascar', 'Grenada',\n",
       "       'Syrian Arab Republic', 'Mozambique', 'Dominica', 'Belize',\n",
       "       \"Lao People's Democratic Republic\", 'Myanmar',\n",
       "       'Turks and Caicos Islands', 'Libya', 'British Virgin Islands',\n",
       "       'Anguilla', 'Mali', 'Guinea-Bissau', 'Saint Kitts and Nevis',\n",
       "       'Northern Mariana Islands (Commonwealth of the)', 'Sierra Leone',\n",
       "       'Burundi', 'Botswana', 'Malawi',\n",
       "       'Bonaire, Sint Eustatius and Saba', 'Falkland Islands (Malvinas)',\n",
       "       'Sao Tome and Principe', 'South Sudan',\n",
       "       'Saint Pierre and Miquelon', 'Yemen', 'Comoros', 'Tajikistan',\n",
       "       'Lesotho'], dtype=object)"
      ]
     },
     "execution_count": 23,
     "metadata": {},
     "output_type": "execute_result"
    }
   ],
   "source": [
    "who.Country.unique()"
   ]
  },
  {
   "cell_type": "markdown",
   "metadata": {},
   "source": [
    "---"
   ]
  },
  {
   "cell_type": "markdown",
   "metadata": {},
   "source": [
    "### bol data type for 'data'"
   ]
  },
  {
   "cell_type": "code",
   "execution_count": 28,
   "metadata": {},
   "outputs": [
    {
     "data": {
      "text/plain": [
       "0        False\n",
       "1        False\n",
       "2        False\n",
       "3        False\n",
       "4        False\n",
       "         ...  \n",
       "31871    False\n",
       "31872    False\n",
       "31873    False\n",
       "31874    False\n",
       "31875    False\n",
       "Name: Country, Length: 31876, dtype: bool"
      ]
     },
     "execution_count": 28,
     "metadata": {},
     "output_type": "execute_result"
    }
   ],
   "source": [
    "who.Country.unique()\n",
    "bol = who.Country == \"Italy\"  #it gives result in True/False\n",
    "# where Italy is present ans = True, while others are False.\n",
    "bol"
   ]
  },
  {
   "cell_type": "markdown",
   "metadata": {},
   "source": [
    "---"
   ]
  },
  {
   "cell_type": "markdown",
   "metadata": {},
   "source": [
    "### Data Filter"
   ]
  },
  {
   "cell_type": "markdown",
   "metadata": {},
   "source": [
    "**Filter Italy data from overall data:**"
   ]
  },
  {
   "cell_type": "code",
   "execution_count": 31,
   "metadata": {},
   "outputs": [
    {
     "data": {
      "text/html": [
       "<div>\n",
       "<style scoped>\n",
       "    .dataframe tbody tr th:only-of-type {\n",
       "        vertical-align: middle;\n",
       "    }\n",
       "\n",
       "    .dataframe tbody tr th {\n",
       "        vertical-align: top;\n",
       "    }\n",
       "\n",
       "    .dataframe thead th {\n",
       "        text-align: right;\n",
       "    }\n",
       "</style>\n",
       "<table border=\"1\" class=\"dataframe\">\n",
       "  <thead>\n",
       "    <tr style=\"text-align: right;\">\n",
       "      <th></th>\n",
       "      <th>Date_reported</th>\n",
       "      <th>Country</th>\n",
       "      <th>New_cases</th>\n",
       "      <th>Cumulative_cases</th>\n",
       "      <th>New_deaths</th>\n",
       "      <th>Cumulative_deaths</th>\n",
       "    </tr>\n",
       "  </thead>\n",
       "  <tbody>\n",
       "    <tr>\n",
       "      <th>123</th>\n",
       "      <td>2020-01-29</td>\n",
       "      <td>Italy</td>\n",
       "      <td>6</td>\n",
       "      <td>6</td>\n",
       "      <td>0</td>\n",
       "      <td>0</td>\n",
       "    </tr>\n",
       "    <tr>\n",
       "      <th>144</th>\n",
       "      <td>2020-01-30</td>\n",
       "      <td>Italy</td>\n",
       "      <td>0</td>\n",
       "      <td>6</td>\n",
       "      <td>0</td>\n",
       "      <td>0</td>\n",
       "    </tr>\n",
       "    <tr>\n",
       "      <th>158</th>\n",
       "      <td>2020-01-31</td>\n",
       "      <td>Italy</td>\n",
       "      <td>0</td>\n",
       "      <td>6</td>\n",
       "      <td>0</td>\n",
       "      <td>0</td>\n",
       "    </tr>\n",
       "    <tr>\n",
       "      <th>187</th>\n",
       "      <td>2020-02-01</td>\n",
       "      <td>Italy</td>\n",
       "      <td>0</td>\n",
       "      <td>6</td>\n",
       "      <td>0</td>\n",
       "      <td>0</td>\n",
       "    </tr>\n",
       "    <tr>\n",
       "      <th>215</th>\n",
       "      <td>2020-02-02</td>\n",
       "      <td>Italy</td>\n",
       "      <td>0</td>\n",
       "      <td>6</td>\n",
       "      <td>0</td>\n",
       "      <td>0</td>\n",
       "    </tr>\n",
       "    <tr>\n",
       "      <th>...</th>\n",
       "      <td>...</td>\n",
       "      <td>...</td>\n",
       "      <td>...</td>\n",
       "      <td>...</td>\n",
       "      <td>...</td>\n",
       "      <td>...</td>\n",
       "    </tr>\n",
       "    <tr>\n",
       "      <th>30870</th>\n",
       "      <td>2020-07-27</td>\n",
       "      <td>Italy</td>\n",
       "      <td>254</td>\n",
       "      <td>246118</td>\n",
       "      <td>5</td>\n",
       "      <td>35107</td>\n",
       "    </tr>\n",
       "    <tr>\n",
       "      <th>31097</th>\n",
       "      <td>2020-07-28</td>\n",
       "      <td>Italy</td>\n",
       "      <td>168</td>\n",
       "      <td>246286</td>\n",
       "      <td>5</td>\n",
       "      <td>35112</td>\n",
       "    </tr>\n",
       "    <tr>\n",
       "      <th>31333</th>\n",
       "      <td>2020-07-29</td>\n",
       "      <td>Italy</td>\n",
       "      <td>202</td>\n",
       "      <td>246488</td>\n",
       "      <td>11</td>\n",
       "      <td>35123</td>\n",
       "    </tr>\n",
       "    <tr>\n",
       "      <th>31629</th>\n",
       "      <td>2020-07-30</td>\n",
       "      <td>Italy</td>\n",
       "      <td>288</td>\n",
       "      <td>246776</td>\n",
       "      <td>6</td>\n",
       "      <td>35129</td>\n",
       "    </tr>\n",
       "    <tr>\n",
       "      <th>31686</th>\n",
       "      <td>2020-07-31</td>\n",
       "      <td>Italy</td>\n",
       "      <td>382</td>\n",
       "      <td>247158</td>\n",
       "      <td>3</td>\n",
       "      <td>35132</td>\n",
       "    </tr>\n",
       "  </tbody>\n",
       "</table>\n",
       "<p>185 rows × 6 columns</p>\n",
       "</div>"
      ],
      "text/plain": [
       "      Date_reported Country  New_cases  Cumulative_cases  New_deaths  \\\n",
       "123      2020-01-29   Italy          6                 6           0   \n",
       "144      2020-01-30   Italy          0                 6           0   \n",
       "158      2020-01-31   Italy          0                 6           0   \n",
       "187      2020-02-01   Italy          0                 6           0   \n",
       "215      2020-02-02   Italy          0                 6           0   \n",
       "...             ...     ...        ...               ...         ...   \n",
       "30870    2020-07-27   Italy        254            246118           5   \n",
       "31097    2020-07-28   Italy        168            246286           5   \n",
       "31333    2020-07-29   Italy        202            246488          11   \n",
       "31629    2020-07-30   Italy        288            246776           6   \n",
       "31686    2020-07-31   Italy        382            247158           3   \n",
       "\n",
       "       Cumulative_deaths  \n",
       "123                    0  \n",
       "144                    0  \n",
       "158                    0  \n",
       "187                    0  \n",
       "215                    0  \n",
       "...                  ...  \n",
       "30870              35107  \n",
       "31097              35112  \n",
       "31333              35123  \n",
       "31629              35129  \n",
       "31686              35132  \n",
       "\n",
       "[185 rows x 6 columns]"
      ]
     },
     "execution_count": 31,
     "metadata": {},
     "output_type": "execute_result"
    }
   ],
   "source": [
    "italy = who[bol]  #it extract only italy data from overall data\n",
    "italy"
   ]
  },
  {
   "cell_type": "markdown",
   "metadata": {},
   "source": [
    "**Filter India data from overall data:**"
   ]
  },
  {
   "cell_type": "code",
   "execution_count": 34,
   "metadata": {},
   "outputs": [
    {
     "data": {
      "text/html": [
       "<div>\n",
       "<style scoped>\n",
       "    .dataframe tbody tr th:only-of-type {\n",
       "        vertical-align: middle;\n",
       "    }\n",
       "\n",
       "    .dataframe tbody tr th {\n",
       "        vertical-align: top;\n",
       "    }\n",
       "\n",
       "    .dataframe thead th {\n",
       "        text-align: right;\n",
       "    }\n",
       "</style>\n",
       "<table border=\"1\" class=\"dataframe\">\n",
       "  <thead>\n",
       "    <tr style=\"text-align: right;\">\n",
       "      <th></th>\n",
       "      <th>Date_reported</th>\n",
       "      <th>Country</th>\n",
       "      <th>New_cases</th>\n",
       "      <th>Cumulative_cases</th>\n",
       "      <th>New_deaths</th>\n",
       "      <th>Cumulative_deaths</th>\n",
       "    </tr>\n",
       "  </thead>\n",
       "  <tbody>\n",
       "    <tr>\n",
       "      <th>136</th>\n",
       "      <td>2020-01-30</td>\n",
       "      <td>India</td>\n",
       "      <td>5</td>\n",
       "      <td>5</td>\n",
       "      <td>0</td>\n",
       "      <td>0</td>\n",
       "    </tr>\n",
       "    <tr>\n",
       "      <th>160</th>\n",
       "      <td>2020-01-31</td>\n",
       "      <td>India</td>\n",
       "      <td>0</td>\n",
       "      <td>5</td>\n",
       "      <td>0</td>\n",
       "      <td>0</td>\n",
       "    </tr>\n",
       "    <tr>\n",
       "      <th>178</th>\n",
       "      <td>2020-02-01</td>\n",
       "      <td>India</td>\n",
       "      <td>0</td>\n",
       "      <td>5</td>\n",
       "      <td>0</td>\n",
       "      <td>0</td>\n",
       "    </tr>\n",
       "    <tr>\n",
       "      <th>209</th>\n",
       "      <td>2020-02-02</td>\n",
       "      <td>India</td>\n",
       "      <td>1</td>\n",
       "      <td>6</td>\n",
       "      <td>0</td>\n",
       "      <td>0</td>\n",
       "    </tr>\n",
       "    <tr>\n",
       "      <th>243</th>\n",
       "      <td>2020-02-03</td>\n",
       "      <td>India</td>\n",
       "      <td>1</td>\n",
       "      <td>7</td>\n",
       "      <td>0</td>\n",
       "      <td>0</td>\n",
       "    </tr>\n",
       "    <tr>\n",
       "      <th>...</th>\n",
       "      <td>...</td>\n",
       "      <td>...</td>\n",
       "      <td>...</td>\n",
       "      <td>...</td>\n",
       "      <td>...</td>\n",
       "      <td>...</td>\n",
       "    </tr>\n",
       "    <tr>\n",
       "      <th>30900</th>\n",
       "      <td>2020-07-27</td>\n",
       "      <td>India</td>\n",
       "      <td>49931</td>\n",
       "      <td>1435453</td>\n",
       "      <td>708</td>\n",
       "      <td>32771</td>\n",
       "    </tr>\n",
       "    <tr>\n",
       "      <th>31200</th>\n",
       "      <td>2020-07-28</td>\n",
       "      <td>India</td>\n",
       "      <td>47703</td>\n",
       "      <td>1483156</td>\n",
       "      <td>654</td>\n",
       "      <td>33425</td>\n",
       "    </tr>\n",
       "    <tr>\n",
       "      <th>31441</th>\n",
       "      <td>2020-07-29</td>\n",
       "      <td>India</td>\n",
       "      <td>48513</td>\n",
       "      <td>1531669</td>\n",
       "      <td>768</td>\n",
       "      <td>34193</td>\n",
       "    </tr>\n",
       "    <tr>\n",
       "      <th>31624</th>\n",
       "      <td>2020-07-30</td>\n",
       "      <td>India</td>\n",
       "      <td>52123</td>\n",
       "      <td>1583792</td>\n",
       "      <td>775</td>\n",
       "      <td>34968</td>\n",
       "    </tr>\n",
       "    <tr>\n",
       "      <th>31812</th>\n",
       "      <td>2020-07-31</td>\n",
       "      <td>India</td>\n",
       "      <td>55078</td>\n",
       "      <td>1638870</td>\n",
       "      <td>779</td>\n",
       "      <td>35747</td>\n",
       "    </tr>\n",
       "  </tbody>\n",
       "</table>\n",
       "<p>184 rows × 6 columns</p>\n",
       "</div>"
      ],
      "text/plain": [
       "      Date_reported Country  New_cases  Cumulative_cases  New_deaths  \\\n",
       "136      2020-01-30   India          5                 5           0   \n",
       "160      2020-01-31   India          0                 5           0   \n",
       "178      2020-02-01   India          0                 5           0   \n",
       "209      2020-02-02   India          1                 6           0   \n",
       "243      2020-02-03   India          1                 7           0   \n",
       "...             ...     ...        ...               ...         ...   \n",
       "30900    2020-07-27   India      49931           1435453         708   \n",
       "31200    2020-07-28   India      47703           1483156         654   \n",
       "31441    2020-07-29   India      48513           1531669         768   \n",
       "31624    2020-07-30   India      52123           1583792         775   \n",
       "31812    2020-07-31   India      55078           1638870         779   \n",
       "\n",
       "       Cumulative_deaths  \n",
       "136                    0  \n",
       "160                    0  \n",
       "178                    0  \n",
       "209                    0  \n",
       "243                    0  \n",
       "...                  ...  \n",
       "30900              32771  \n",
       "31200              33425  \n",
       "31441              34193  \n",
       "31624              34968  \n",
       "31812              35747  \n",
       "\n",
       "[184 rows x 6 columns]"
      ]
     },
     "execution_count": 34,
     "metadata": {},
     "output_type": "execute_result"
    }
   ],
   "source": [
    "india = who[who.Country == \"India\"]  #chainof command \n",
    "india   #it extract only india data from overall data"
   ]
  },
  {
   "cell_type": "markdown",
   "metadata": {},
   "source": [
    "**Filter Poland data from overall data:**"
   ]
  },
  {
   "cell_type": "code",
   "execution_count": 33,
   "metadata": {},
   "outputs": [
    {
     "data": {
      "text/html": [
       "<div>\n",
       "<style scoped>\n",
       "    .dataframe tbody tr th:only-of-type {\n",
       "        vertical-align: middle;\n",
       "    }\n",
       "\n",
       "    .dataframe tbody tr th {\n",
       "        vertical-align: top;\n",
       "    }\n",
       "\n",
       "    .dataframe thead th {\n",
       "        text-align: right;\n",
       "    }\n",
       "</style>\n",
       "<table border=\"1\" class=\"dataframe\">\n",
       "  <thead>\n",
       "    <tr style=\"text-align: right;\">\n",
       "      <th></th>\n",
       "      <th>Date_reported</th>\n",
       "      <th>Country</th>\n",
       "      <th>New_cases</th>\n",
       "      <th>Cumulative_cases</th>\n",
       "      <th>New_deaths</th>\n",
       "      <th>Cumulative_deaths</th>\n",
       "    </tr>\n",
       "  </thead>\n",
       "  <tbody>\n",
       "    <tr>\n",
       "      <th>1283</th>\n",
       "      <td>2020-03-04</td>\n",
       "      <td>Poland</td>\n",
       "      <td>1</td>\n",
       "      <td>1</td>\n",
       "      <td>0</td>\n",
       "      <td>0</td>\n",
       "    </tr>\n",
       "    <tr>\n",
       "      <th>1422</th>\n",
       "      <td>2020-03-05</td>\n",
       "      <td>Poland</td>\n",
       "      <td>0</td>\n",
       "      <td>1</td>\n",
       "      <td>0</td>\n",
       "      <td>0</td>\n",
       "    </tr>\n",
       "    <tr>\n",
       "      <th>1471</th>\n",
       "      <td>2020-03-06</td>\n",
       "      <td>Poland</td>\n",
       "      <td>0</td>\n",
       "      <td>1</td>\n",
       "      <td>0</td>\n",
       "      <td>0</td>\n",
       "    </tr>\n",
       "    <tr>\n",
       "      <th>1607</th>\n",
       "      <td>2020-03-07</td>\n",
       "      <td>Poland</td>\n",
       "      <td>4</td>\n",
       "      <td>5</td>\n",
       "      <td>0</td>\n",
       "      <td>0</td>\n",
       "    </tr>\n",
       "    <tr>\n",
       "      <th>1669</th>\n",
       "      <td>2020-03-08</td>\n",
       "      <td>Poland</td>\n",
       "      <td>1</td>\n",
       "      <td>6</td>\n",
       "      <td>0</td>\n",
       "      <td>0</td>\n",
       "    </tr>\n",
       "    <tr>\n",
       "      <th>...</th>\n",
       "      <td>...</td>\n",
       "      <td>...</td>\n",
       "      <td>...</td>\n",
       "      <td>...</td>\n",
       "      <td>...</td>\n",
       "      <td>...</td>\n",
       "    </tr>\n",
       "    <tr>\n",
       "      <th>30989</th>\n",
       "      <td>2020-07-27</td>\n",
       "      <td>Poland</td>\n",
       "      <td>443</td>\n",
       "      <td>43065</td>\n",
       "      <td>7</td>\n",
       "      <td>1671</td>\n",
       "    </tr>\n",
       "    <tr>\n",
       "      <th>31171</th>\n",
       "      <td>2020-07-28</td>\n",
       "      <td>Poland</td>\n",
       "      <td>337</td>\n",
       "      <td>43402</td>\n",
       "      <td>5</td>\n",
       "      <td>1676</td>\n",
       "    </tr>\n",
       "    <tr>\n",
       "      <th>31368</th>\n",
       "      <td>2020-07-29</td>\n",
       "      <td>Poland</td>\n",
       "      <td>502</td>\n",
       "      <td>43904</td>\n",
       "      <td>6</td>\n",
       "      <td>1682</td>\n",
       "    </tr>\n",
       "    <tr>\n",
       "      <th>31543</th>\n",
       "      <td>2020-07-30</td>\n",
       "      <td>Poland</td>\n",
       "      <td>512</td>\n",
       "      <td>44416</td>\n",
       "      <td>12</td>\n",
       "      <td>1694</td>\n",
       "    </tr>\n",
       "    <tr>\n",
       "      <th>31863</th>\n",
       "      <td>2020-07-31</td>\n",
       "      <td>Poland</td>\n",
       "      <td>615</td>\n",
       "      <td>45031</td>\n",
       "      <td>15</td>\n",
       "      <td>1709</td>\n",
       "    </tr>\n",
       "  </tbody>\n",
       "</table>\n",
       "<p>150 rows × 6 columns</p>\n",
       "</div>"
      ],
      "text/plain": [
       "      Date_reported Country  New_cases  Cumulative_cases  New_deaths  \\\n",
       "1283     2020-03-04  Poland          1                 1           0   \n",
       "1422     2020-03-05  Poland          0                 1           0   \n",
       "1471     2020-03-06  Poland          0                 1           0   \n",
       "1607     2020-03-07  Poland          4                 5           0   \n",
       "1669     2020-03-08  Poland          1                 6           0   \n",
       "...             ...     ...        ...               ...         ...   \n",
       "30989    2020-07-27  Poland        443             43065           7   \n",
       "31171    2020-07-28  Poland        337             43402           5   \n",
       "31368    2020-07-29  Poland        502             43904           6   \n",
       "31543    2020-07-30  Poland        512             44416          12   \n",
       "31863    2020-07-31  Poland        615             45031          15   \n",
       "\n",
       "       Cumulative_deaths  \n",
       "1283                   0  \n",
       "1422                   0  \n",
       "1471                   0  \n",
       "1607                   0  \n",
       "1669                   0  \n",
       "...                  ...  \n",
       "30989               1671  \n",
       "31171               1676  \n",
       "31368               1682  \n",
       "31543               1694  \n",
       "31863               1709  \n",
       "\n",
       "[150 rows x 6 columns]"
      ]
     },
     "execution_count": 33,
     "metadata": {},
     "output_type": "execute_result"
    }
   ],
   "source": [
    "poland = who[who.Country == \"Poland\"]  #it extract only poland data from overall data\n",
    "poland"
   ]
  },
  {
   "cell_type": "markdown",
   "metadata": {},
   "source": [
    "Note:\n",
    "* For sequential data - draw line chart\n",
    "* For frequency data - draw histogram\n",
    "* for categorized data - draw bar chart"
   ]
  }
 ],
 "metadata": {
  "kernelspec": {
   "display_name": "Python 3",
   "language": "python",
   "name": "python3"
  },
  "language_info": {
   "codemirror_mode": {
    "name": "ipython",
    "version": 3
   },
   "file_extension": ".py",
   "mimetype": "text/x-python",
   "name": "python",
   "nbconvert_exporter": "python",
   "pygments_lexer": "ipython3",
   "version": "3.11.5"
  }
 },
 "nbformat": 4,
 "nbformat_minor": 2
}
